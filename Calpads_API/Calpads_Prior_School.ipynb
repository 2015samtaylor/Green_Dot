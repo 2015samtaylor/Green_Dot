{
 "cells": [
  {
   "cell_type": "code",
   "execution_count": null,
   "id": "0bcdc36e",
   "metadata": {},
   "outputs": [],
   "source": [
    "# Filtered Calpads 8.1 data to Start Dates after 2021-07-30 effectively getting 2021-2022 school year schools. \n",
    "# Frame has one record per student. Then pass all singular SSIDs to API call. \n",
    "# 10820 rows\n",
    "\n",
    "# SSIDs are passed in to CALPADS API for student enrollment, and then filtered for time period between 2020-08-01 : 2021-07-30 \n",
    "# This effectively gets prior enrollments before 2021-2022 school year. \n",
    "# 10548 rows\n",
    "\n",
    "# Filtered to most recent school from CALPADS API call simplifying to one school per SSID. Then merged on common SSID between 8.1 datq\n",
    "# and Calpads API call. \n",
    "\n",
    "# Note: API call had 272 rows less. (10820 rows - 10548 rows)\n",
    "# Final frame has 10548 due to merge."
   ]
  },
  {
   "cell_type": "code",
   "execution_count": 22,
   "id": "d60b04ed",
   "metadata": {},
   "outputs": [],
   "source": [
    "import pandas as pd\n",
    "\n",
    "df_1 = pd.read_csv('First_run')\n",
    "df_2 = pd.read_csv('Second_run')\n",
    "df_3 = pd.read_csv('Third_run')\n",
    "\n",
    "prior = pd.concat([df_1, df_2, df_3])\n",
    "\n",
    "\n",
    "prior = prior.rename(columns = {'GradeLevel' : 'Prior_GradeLevel' , 'SchoolOfAttendance' : 'Prior_Calpads_Schools_2020_2021', 'EnrollmentStartDate' : 'Prior_EnrollmentStartDate', 'SchoolID': 'Prior_SchoolID'})\n",
    "\n",
    "prior = prior.sort_values(by =['SSID', 'Prior_EnrollmentStartDate'])\n",
    "prior = prior.drop_duplicates(subset = ['SSID'], keep = 'last' )\n",
    "prior.reset_index(inplace = True, drop = True)\n",
    "\n",
    "# prior school coming from calpads API call. 2020-2021 retains most recent enrollment\n",
    "\n",
    "df = pd.read_csv(r'C:\\Users\\samuel.taylor\\OneDrive - Green Dot Public Schools\\Desktop\\Downloaded_CSVS\\Calpads_2021_2022.csv')\n",
    "\n",
    "df['Start_Date'] = df['Start_Date'].astype(str)\n",
    "df['Start_Date'] = df['Start_Date'].str[:10]\n",
    "df['Start_Date'] = pd.to_datetime(df['Start_Date'])\n",
    "\n",
    "most_recent = df[(df['Start_Date'] > '2021-07-30')]\n",
    "most_recent = most_recent.rename(columns = {'SchoolCode': 'SchoolID', 'SchoolName': '8.1_School_2021_2022', 'SSID' : 'SSID', 'StudentName': 'StudentName', 'Grade_Level_Code': 'GradeLevel','Start_Date' : 'EnrollmentStartDate'})\n",
    "most_recent.reset_index(inplace = True, drop = True)\n",
    "\n",
    "# Filters Calpads 8.1 data to Start Dates after 2021-07-30 effectively getting 2021-2022 school year schools. \n",
    "# has one record per student\n",
    "\n",
    "final = pd.merge(most_recent, prior, on = 'SSID')\n",
    "\n",
    "final = final[['SSID', 'StudentName', 'SchoolID', '8.1_School_2021_2022', 'EnrollmentStartDate', 'GradeLevel', 'Prior_SchoolID', 'Prior_Calpads_Schools_2020_2021', 'Prior_EnrollmentStartDate', 'Prior_SchoolID', 'Prior_GradeLevel']]\n",
    "\n",
    "# final.to_csv('Calpads_Prior_School_2020_2021', index = False)"
   ]
  }
 ],
 "metadata": {
  "kernelspec": {
   "display_name": "Python 3 (ipykernel)",
   "language": "python",
   "name": "python3"
  },
  "language_info": {
   "codemirror_mode": {
    "name": "ipython",
    "version": 3
   },
   "file_extension": ".py",
   "mimetype": "text/x-python",
   "name": "python",
   "nbconvert_exporter": "python",
   "pygments_lexer": "ipython3",
   "version": "3.9.7"
  }
 },
 "nbformat": 4,
 "nbformat_minor": 5
}
